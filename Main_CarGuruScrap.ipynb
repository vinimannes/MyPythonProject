{
 "cells": [
  {
   "cell_type": "code",
   "execution_count": 1,
   "id": "3e90c404",
   "metadata": {},
   "outputs": [],
   "source": [
    "import ipywidgets as widgets\n",
    "from bs4 import BeautifulSoup\n",
    "from selenium import webdriver\n",
    "from selenium.webdriver.common.by import By\n",
    "from datetime import datetime\n",
    "import pandas as pd\n",
    "import time\n",
    "import os\n",
    "from re import search\n",
    "from tqdm import tqdm\n",
    "import plotly.express as px\n",
    "import pyodbc \n",
    "import numpy as np\n",
    "import matplotlib.pyplot as plt\n",
    "import datetime\n",
    "from datetime import datetime\n",
    "%matplotlib inline\n"
   ]
  },
  {
   "cell_type": "code",
   "execution_count": 2,
   "id": "8cfb0e03",
   "metadata": {},
   "outputs": [],
   "source": [
    "#########################################################\n",
    "\n",
    "################# Enter Values Here #####################\n",
    "\n",
    "#########################################################\n",
    "zipcode = 78741\n",
    "pages = 1500\n",
    "data_name = \"new3\"\n",
    "#########################################################"
   ]
  },
  {
   "cell_type": "code",
   "execution_count": 3,
   "id": "0350eca5",
   "metadata": {},
   "outputs": [
    {
     "data": {
      "application/vnd.jupyter.widget-view+json": {
       "model_id": "e86f36d1d76d41dea6d42804fbe5f37d",
       "version_major": 2,
       "version_minor": 0
      },
      "text/plain": [
       "Select(description='Selecione o carro:', options=('Audi', 'BMW', 'Cadillac', 'Chrysler', 'Chevrolet', 'Dodge',…"
      ]
     },
     "metadata": {},
     "output_type": "display_data"
    }
   ],
   "source": [
    "# https://ipywidgets.readthedocs.io/en/latest/examples/Widget%20List.html\n",
    "\n",
    "widget_car_name = widgets.Select(\n",
    "    options=['Audi', 'BMW', 'Cadillac', 'Chrysler', 'Chevrolet', 'Dodge', 'Ferrari', 'Fiat', 'Ford', 'GMC', 'Honda', 'Hyundai', 'INFINITI', 'Jeep', 'Kia', 'Lamborghini', 'Land_Rover', 'Lincoln', 'Maserati', 'Mazda', 'Mercedes', 'Nissan', 'Porsche', 'Rolls', 'Subaru', 'Tesla', 'Toyota', 'Volkswagen', 'Volvo'], \n",
    "    value='Audi',\n",
    "    # rows=10,\n",
    "    description='Selecione o carro:',\n",
    "    disabled=False\n",
    ")\n",
    "widget_car_name\n",
    "\n"
   ]
  },
  {
   "cell_type": "code",
   "execution_count": 4,
   "id": "13c275e2",
   "metadata": {},
   "outputs": [],
   "source": [
    "# Selecting car search data:\n",
    "\n",
    "car_name = widget_car_name.value"
   ]
  },
  {
   "cell_type": "code",
   "execution_count": 5,
   "id": "456c607d",
   "metadata": {},
   "outputs": [
    {
     "name": "stdout",
     "output_type": "stream",
     "text": [
      "\n",
      " ** ready to extract data from: https://www.cargurus...er.selectedEntity=m7\n",
      "\n",
      " ** pages processing: 1500\n"
     ]
    }
   ],
   "source": [
    "# Selecting car search:\n",
    "\n",
    "if car_name == 'Fiat':\n",
    "    id_website_car = 'm98'\n",
    "elif car_name == 'Toyota':\n",
    "    id_website_car = 'm7'\n",
    "elif car_name == 'Volkswagen':\n",
    "    id_website_car = 'm55'\n",
    "elif car_name == 'Mercedes':\n",
    "    id_website_car = 'm43'\n",
    "elif car_name == 'Porsche':\n",
    "    id_website_car = 'm48'\n",
    "elif car_name == 'Tesla':\n",
    "    id_website_car = 'm112'\n",
    "elif car_name == 'Land_Rover':\n",
    "    id_website_car = 'm35'\n",
    "elif car_name == 'Honda':\n",
    "    id_website_car = 'm6'\n",
    "elif car_name == 'Ford':\n",
    "    id_website_car = 'm2'\n",
    "elif car_name == 'Audi':\n",
    "    id_website_car  = 'm19'\n",
    "elif car_name == 'Ferrari':\n",
    "    id_website_car  = 'm25'\n",
    "elif car_name == 'Lamborghini':\n",
    "    id_website_car = 'm34'\n",
    "elif car_name == 'BMW':\n",
    "    id_website_car = 'm3'\n",
    "elif car_name == 'Chevrolet':\n",
    "    id_website_car = 'm1'\n",
    "elif car_name == 'Volvo':\n",
    "    id_website_car = 'm56'\n",
    "elif car_name == 'Kia':\n",
    "    id_website_car = 'm33'\n",
    "elif car_name == 'Hyundai':\n",
    "    id_website_car = 'm28'    \n",
    "elif car_name == 'Rolls':\n",
    "    id_website_car = 'm49'    \n",
    "elif car_name == 'Maserati':\n",
    "    id_website_car = 'm40'\n",
    "elif car_name == 'Subaru':\n",
    "    id_website_car = 'm53'\n",
    "elif car_name == 'Mazda':\n",
    "    id_website_car = 'm42'\n",
    "elif car_name == 'Cadillac':\n",
    "    id_website_car = 'm22'\n",
    "elif car_name == 'Jeep':\n",
    "    id_website_car = 'm32'\n",
    "elif car_name == 'Lincoln':\n",
    "    id_website_car = 'm38'\n",
    "elif car_name == 'Nissan':\n",
    "    id_website_car = 'm12'\n",
    "elif car_name == 'INFINITI':\n",
    "    id_website_car = 'm84'\n",
    "elif car_name == 'Dodge':\n",
    "    id_website_car = 'm24'\n",
    "elif car_name == 'Chrysler':\n",
    "    id_website_car = 'm23'\n",
    "elif car_name == 'GMC':\n",
    "    id_website_car = 'm26'\n",
    "    \n",
    "zipcode = '{}'\n",
    "link = \"https://www.cargurus.com/Cars/inventorylisting/viewDetailsFilterViewInventoryListing.action?zip={}&minMileage=1&minPrice=2000&distance=50000&entitySelectingHelper.selectedEntity={}\".format(zipcode, id_website_car)\n",
    "\n",
    "raw_data = \"_data/_{}_raw.csv\".format(data_name)\n",
    "clean_data = \"_data/_{}_clean.csv\".format(data_name)\n",
    "\n",
    "print(\"\\n ** ready to extract data from: {}...{}\".format(link[:20], link[-20:]))\n",
    "print(\"\\n ** pages processing: {}\".format(pages))"
   ]
  },
  {
   "cell_type": "code",
   "execution_count": 7,
   "id": "2b84bed7",
   "metadata": {
    "scrolled": true
   },
   "outputs": [
    {
     "name": "stderr",
     "output_type": "stream",
     "text": [
      "C:\\Users\\Vini\\AppData\\Local\\Temp\\ipykernel_39300\\3248290265.py:4: DeprecationWarning: executable_path has been deprecated, please pass in a Service object\n",
      "  driver = webdriver.Chrome(chromedriver)\n"
     ]
    },
    {
     "name": "stdout",
     "output_type": "stream",
     "text": [
      "\n",
      " Select your filter. The countdown will start...\n",
      "\n",
      " 10, 9, 8, 7...\n",
      "\n",
      " 6, 5, 4, 3, 2...\n",
      "\n",
      " 1...\n",
      "\n",
      " Process started!\n"
     ]
    },
    {
     "name": "stderr",
     "output_type": "stream",
     "text": [
      "  0%|▎                                                                                | 5/1500 [00:07<34:55,  1.40s/it]"
     ]
    },
    {
     "name": "stdout",
     "output_type": "stream",
     "text": [
      "\n",
      " ** data extraction success!\n",
      "\n",
      " ** raw data added: _data/_new3_raw.csv\n"
     ]
    },
    {
     "name": "stderr",
     "output_type": "stream",
     "text": [
      "\n"
     ]
    }
   ],
   "source": [
    "data = []\n",
    "chromedriver = \"chromedriver.exe\"\n",
    "os.environ[\"webdriver.chrome.driver\"] = chromedriver\n",
    "driver = webdriver.Chrome(chromedriver)\n",
    "driver.get(link)\n",
    "print(\"\\n Select your filter. The countdown will start...\")\n",
    "print(\"\\n 10, 9, 8, 7...\")\n",
    "time.sleep(13)\n",
    "print(\"\\n 6, 5, 4, 3, 2...\")\n",
    "time.sleep(13)\n",
    "print(\"\\n 1...\")\n",
    "time.sleep(13)\n",
    "print(\"\\n Process started!\")\n",
    "assert \"CarGurus\" in driver.title\n",
    "\n",
    "while True:\n",
    "    try:\n",
    "        \n",
    "        for i in tqdm(range(pages)):\n",
    "            html = driver.page_source\n",
    "            soup = BeautifulSoup(html, \"html.parser\")\n",
    "            cars = soup.find_all(\"div\", {\"class\":\"MOfIEd XcutUU prRsnF\"})\n",
    "\n",
    "            if cars != []: # If doesn't exist information on the page, Click on final page.\n",
    "                for car in cars:\n",
    "                        if search(\"/mo\", car.find_all(\"span\")[2].text): # Insert only the info that has string \"\"/mo\".\n",
    "                            row = {}\n",
    "\n",
    "                            # Finding Make\n",
    "                            make = car.find_all(\"span\")[1].text\n",
    "                            make = make.split(\" \", 5)\n",
    "                            make = make[5]\n",
    "                            make = make.split(\" \", 1)\n",
    "                            row[\"Make\"] =  make[0]\n",
    "                            \n",
    "                            # Finding Model\n",
    "                            model = car.find_all(\"span\")[1].text\n",
    "                            model = model.split(\" \", 5)\n",
    "                            row[\"Model\"] = model[5]\n",
    "\n",
    "                            # Finding Year\n",
    "                            year = car.find_all(\"span\")[1].text\n",
    "                            year = year.split(\" \")\n",
    "                            row[\"Year\"] = year[4]\n",
    "\n",
    "                            # Finding Price    \n",
    "                            price = car.find_all(\"span\")[2].text\n",
    "                            price = price.split(\" \", 1)\n",
    "                            price = price[0]\n",
    "                            price = price.replace(\"$\", \"\").replace(\",\", \"\")\n",
    "                            row[\"Price\"] = price\n",
    "\n",
    "                            # Finding Mileage\n",
    "                            mileage = car.find_all(\"span\")[9].text\n",
    "                            mileage = mileage.split(\" \", 1)\n",
    "                            mileage = mileage[0]\n",
    "                            mileage = mileage.replace(\"$\", \"\").replace(\",\", \"\")\n",
    "                            row[\"Mileage\"] = mileage\n",
    "\n",
    "                            # Finding City\n",
    "                            city = car.find_all(\"span\")[11].text\n",
    "                            city = city.replace(\",\", \" -\")\n",
    "                            row[\"City\"] = city\n",
    "\n",
    "                            # Finding State\n",
    "                            state = car.find_all(\"span\")[11].text\n",
    "                            row[\"State\"] = state[-2:]\n",
    "                            \n",
    "                            # Month Analyzed\n",
    "                            currentMonth = datetime.now()\n",
    "                            row[\"History_Month_Listed\"] = currentMonth.strftime(\"%B\")\n",
    "\n",
    "                            data.append(row)\n",
    "\n",
    "                # Click on Next Page            \n",
    "                next_page = driver.find_element(By.XPATH, '//span[text()=\"Next page\"]')\n",
    "                next_page.click()\n",
    "                assert \"CarGurus\" in driver.title\n",
    "                \n",
    "            else:\n",
    "                next_page = driver.find_element(By.XPATH, '//span[text()=\"Final page\"]')\n",
    "                next_page.click()\n",
    "                assert \"CarGurus\" in driver.title\n",
    "\n",
    "    except:\n",
    "        break\n",
    "            \n",
    "#driver.close()\n",
    "df = pd.DataFrame(data)\n",
    "df = df.drop_duplicates()\n",
    "df.to_csv(raw_data, encoding=\"ascii\")\n",
    "print(\"\\n ** data extraction success!\")\n",
    "print(\"\\n ** raw data added: {}\".format(raw_data))\n",
    "\n",
    "# Filter: >= 2018\n",
    "# NationWide\n",
    "# Less than 80k miles\n",
    "# No accidents\n",
    "# Hide Vehicles without photos\n",
    "# 4+ Stars Customer Rating"
   ]
  },
  {
   "cell_type": "code",
   "execution_count": null,
   "id": "16c92d4a",
   "metadata": {},
   "outputs": [],
   "source": []
  },
  {
   "cell_type": "code",
   "execution_count": null,
   "id": "eb20d916",
   "metadata": {},
   "outputs": [],
   "source": []
  }
 ],
 "metadata": {
  "kernelspec": {
   "display_name": "Python 3 (ipykernel)",
   "language": "python",
   "name": "python3"
  },
  "language_info": {
   "codemirror_mode": {
    "name": "ipython",
    "version": 3
   },
   "file_extension": ".py",
   "mimetype": "text/x-python",
   "name": "python",
   "nbconvert_exporter": "python",
   "pygments_lexer": "ipython3",
   "version": "3.9.13"
  }
 },
 "nbformat": 4,
 "nbformat_minor": 5
}
